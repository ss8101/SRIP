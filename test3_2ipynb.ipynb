{
  "nbformat": 4,
  "nbformat_minor": 0,
  "metadata": {
    "colab": {
      "name": "test3.2ipynb",
      "provenance": []
    },
    "kernelspec": {
      "name": "python3",
      "display_name": "Python 3"
    },
    "language_info": {
      "name": "python"
    }
  },
  "cells": [
    {
      "cell_type": "markdown",
      "source": [
        "#Two layered nn using jax on Mnist Data set\n",
        "\n",
        "\n"
      ],
      "metadata": {
        "id": "ZgTd1-QFvm3W"
      }
    },
    {
      "cell_type": "code",
      "execution_count": 56,
      "metadata": {
        "id": "syV1SIGkRGF4"
      },
      "outputs": [],
      "source": [
        "import jax.numpy as jnp\n",
        "from jax import grad, jit, vmap\n",
        "from jax import random\n",
        "import matplotlib.pyplot as plt"
      ]
    },
    {
      "cell_type": "code",
      "source": [
        "# A helper function to randomly initialize weights and biases\n",
        "# for a dense neural network layer\n",
        "def random_layer_params(m, n, key, scale=1e-2):\n",
        "  w_key, b_key = random.split(key)\n",
        "  return scale * random.normal(w_key, (n, m)), scale * random.normal(b_key, (n,))\n",
        "\n",
        "# Initialize all layers for a fully-connected neural network with sizes \"sizes\"\n",
        "def init_network_params(sizes, key):\n",
        "  keys = random.split(key, len(sizes))\n",
        "  return [random_layer_params(m, n, k) for m, n, k in zip(sizes[:-1], sizes[1:], keys)]\n",
        "\n",
        "layer_sizes = [784, 10, 128, 10] # we tried with several number of sets like [784,10,10,10], [784, 128, 128, 10], [784,128,64,10], [784,128,10,10],[784,10,128,10] we place the loss function plot\n",
        "step_size = 0.01\n",
        "num_epochs = 8\n",
        "batch_size = 128\n",
        "n_targets = 10\n",
        "params = init_network_params(layer_sizes, random.PRNGKey(0))\n",
        "params"
      ],
      "metadata": {
        "colab": {
          "base_uri": "https://localhost:8080/"
        },
        "id": "TorBbcy5RIwh",
        "outputId": "f6088c9e-8943-4e52-ab5e-2469b0c34edb"
      },
      "execution_count": 57,
      "outputs": [
        {
          "output_type": "execute_result",
          "data": {
            "text/plain": [
              "[(DeviceArray([[-0.00476654,  0.0174511 ,  0.00820192, ...,  0.00420483,\n",
              "                 0.01661447, -0.00711814],\n",
              "               [-0.01871746,  0.00429217,  0.01709598, ...,  0.005661  ,\n",
              "                 0.00943259,  0.0075941 ],\n",
              "               [-0.010374  ,  0.01708133, -0.02524053, ..., -0.00577776,\n",
              "                -0.00016799,  0.00135036],\n",
              "               ...,\n",
              "               [-0.01151889, -0.00757259,  0.01090092, ..., -0.01054432,\n",
              "                -0.01063822,  0.00815061],\n",
              "               [ 0.00567098, -0.01304589,  0.02454334, ..., -0.00065788,\n",
              "                 0.00192191, -0.01061198],\n",
              "               [ 0.00530932, -0.00761684,  0.01144118, ...,  0.02284464,\n",
              "                -0.01568104,  0.00418428]], dtype=float32),\n",
              "  DeviceArray([-0.01062579, -0.00319807,  0.01910353, -0.0013924 ,\n",
              "               -0.01968765, -0.02294103, -0.00881463, -0.01330986,\n",
              "                0.00571147,  0.0076695 ], dtype=float32)),\n",
              " (DeviceArray([[-0.00065035, -0.01186085,  0.01075825, ...,  0.00920764,\n",
              "                 0.00346461, -0.02335506],\n",
              "               [ 0.02712676,  0.0117213 ,  0.01089831, ...,  0.00970998,\n",
              "                 0.00146103, -0.00020574],\n",
              "               [-0.00256937,  0.00218244, -0.00033803, ...,  0.00449292,\n",
              "                 0.00210865,  0.00315222],\n",
              "               ...,\n",
              "               [-0.00892318, -0.00469316, -0.00805951, ..., -0.01918872,\n",
              "                -0.00039445,  0.01581973],\n",
              "               [-0.01269587,  0.01053219, -0.00684873, ...,  0.01326251,\n",
              "                 0.00684653,  0.00542711],\n",
              "               [ 0.00293071, -0.00831505, -0.00586439, ..., -0.00640631,\n",
              "                -0.00431185, -0.00025974]], dtype=float32),\n",
              "  DeviceArray([ 3.4871420e-03,  6.9601396e-03,  1.7862959e-02,\n",
              "               -4.4127358e-03, -2.2948773e-03,  3.2293363e-04,\n",
              "               -1.4844941e-03,  1.0293247e-02,  3.6682978e-03,\n",
              "               -6.3826907e-03, -4.2739753e-03, -1.2075867e-02,\n",
              "               -2.0837348e-02,  2.5664652e-03,  1.1496931e-02,\n",
              "               -5.9047309e-03, -1.4249464e-02,  1.0935683e-03,\n",
              "                5.2348827e-03, -1.1975621e-03,  7.7448873e-04,\n",
              "                1.0599400e-02,  6.3570044e-03, -1.8755389e-02,\n",
              "                6.6260314e-03,  1.2926191e-02, -1.1888534e-02,\n",
              "               -7.1402276e-03,  1.3897531e-02,  5.3989294e-04,\n",
              "               -5.7960604e-03, -1.5148525e-03,  1.0020081e-02,\n",
              "               -4.2466437e-03,  1.1793537e-02, -5.8389688e-03,\n",
              "               -8.9878647e-04, -1.2218972e-02, -2.4307258e-02,\n",
              "                6.5167123e-03,  1.7158631e-02, -2.3411818e-02,\n",
              "               -9.0011228e-03,  6.5893987e-03, -5.0589982e-03,\n",
              "               -7.4203260e-04,  3.8567621e-03, -4.8544277e-03,\n",
              "                1.3253910e-03, -6.3464649e-05, -1.0116564e-02,\n",
              "               -6.9828378e-03,  5.3335475e-03, -3.2716612e-03,\n",
              "                8.9436229e-03, -1.2278216e-02, -1.7557591e-02,\n",
              "                5.2456604e-03, -4.6712831e-03, -2.2034394e-03,\n",
              "                8.0420766e-03,  1.0652406e-03,  7.2871307e-03,\n",
              "                9.9655129e-03,  1.3096333e-02, -3.6189419e-03,\n",
              "               -6.5272995e-03,  9.2795985e-03,  2.1724866e-03,\n",
              "               -5.7059205e-03, -3.0488123e-03,  7.8973714e-03,\n",
              "                1.7069509e-03,  1.4845275e-02,  9.6189202e-04,\n",
              "                3.8169560e-03, -1.7469520e-02, -4.3094615e-03,\n",
              "               -6.9712703e-03, -5.0273282e-03, -1.5321932e-02,\n",
              "               -2.7546808e-03,  3.0708553e-03, -6.4734393e-03,\n",
              "               -1.5742498e-02, -9.8156743e-04,  9.5787328e-03,\n",
              "                8.2448274e-03,  1.0737561e-02, -2.0448549e-03,\n",
              "                3.8647423e-03, -1.8389338e-04, -1.0451156e-02,\n",
              "               -1.1722712e-02,  6.5868595e-03,  1.5688662e-03,\n",
              "                1.3951869e-02,  2.7775296e-03, -1.2616768e-02,\n",
              "               -3.5006711e-03,  4.7996980e-03,  1.3273437e-02,\n",
              "                1.1414962e-02,  5.8920383e-03, -2.4207909e-02,\n",
              "                2.6915488e-03, -1.1203778e-02, -1.4032446e-02,\n",
              "                4.4913203e-03, -1.0394243e-02,  9.5297946e-03,\n",
              "                1.1466200e-02, -1.2506965e-03, -1.3269449e-03,\n",
              "                1.0125862e-02, -1.3344920e-02,  1.5506138e-02,\n",
              "                1.7365908e-02,  1.9145077e-02, -1.2197007e-02,\n",
              "                3.0957269e-03,  4.4940799e-03,  4.4396166e-03,\n",
              "                1.0472169e-02, -4.3420014e-03,  6.2275175e-03,\n",
              "                1.4879747e-02, -4.5851911e-03], dtype=float32)),\n",
              " (DeviceArray([[-5.03984001e-03, -4.01291205e-03, -7.98729016e-05, ...,\n",
              "                 1.41782118e-02, -1.59787610e-02, -4.38673701e-03],\n",
              "               [-5.36781549e-03,  1.04413852e-02,  3.40016023e-03, ...,\n",
              "                 1.12148533e-02, -1.14613781e-02,  1.72909442e-02],\n",
              "               [-6.91416441e-03, -1.76406093e-03, -4.33827145e-03, ...,\n",
              "                 1.36663578e-02,  4.52852529e-03,  6.75072195e-03],\n",
              "               ...,\n",
              "               [-3.33972229e-03, -6.17330614e-03,  6.99240598e-04, ...,\n",
              "                 5.08939428e-03,  8.39274656e-03,  2.46783765e-03],\n",
              "               [-3.88978375e-03, -1.19559895e-02, -3.44710308e-03, ...,\n",
              "                 7.32321618e-03,  4.24530823e-03, -6.72561582e-03],\n",
              "               [ 8.63593165e-03,  1.37547567e-03, -3.84123018e-03, ...,\n",
              "                 5.79931447e-03,  3.69038503e-03,  1.92242209e-04]],            dtype=float32),\n",
              "  DeviceArray([ 0.01017964,  0.0064063 ,  0.01160405, -0.00880583,\n",
              "                0.00776561, -0.00425931,  0.00201874,  0.00285629,\n",
              "                0.00371494,  0.01471784], dtype=float32))]"
            ]
          },
          "metadata": {},
          "execution_count": 57
        }
      ]
    },
    {
      "cell_type": "code",
      "source": [
        "from jax.scipy.special import logsumexp\n",
        "#defining the relu function\n",
        "def relu(x):\n",
        "  return jnp.maximum(0, x)\n",
        "#prediction function\n",
        "def predict(params, image):\n",
        "  # per-example predictions\n",
        "  activations = image\n",
        "  for w, b in params[:-1]:\n",
        "    outputs = jnp.dot(w, activations) + b\n",
        "    activations = relu(outputs)\n",
        "  \n",
        "  final_w, final_b = params[-1]\n",
        "  logits = jnp.dot(final_w, activations) + final_b\n",
        "  a=logits - logsumexp(logits)\n",
        "  return a"
      ],
      "metadata": {
        "id": "0Dss2FzzRLpB"
      },
      "execution_count": 58,
      "outputs": []
    },
    {
      "cell_type": "code",
      "source": [
        "# This works on single examples\n",
        "random_flattened_image = random.normal(random.PRNGKey(1), (28 * 28,))\n",
        "preds = predict(params, random_flattened_image)\n",
        "print(preds.shape)"
      ],
      "metadata": {
        "colab": {
          "base_uri": "https://localhost:8080/"
        },
        "id": "m1i_lTCxRO40",
        "outputId": "c8737f6b-eecf-4aae-8291-c1c96cb2bd42"
      },
      "execution_count": 59,
      "outputs": [
        {
          "output_type": "stream",
          "name": "stdout",
          "text": [
            "(10,)\n"
          ]
        }
      ]
    },
    {
      "cell_type": "code",
      "source": [
        "# Doesn't work with a batch\n",
        "random_flattened_images = random.normal(random.PRNGKey(1), (10, 28 * 28))\n",
        "try:\n",
        "  preds = predict(params, random_flattened_images)\n",
        "except TypeError:\n",
        "  print('Invalid shapes!')"
      ],
      "metadata": {
        "colab": {
          "base_uri": "https://localhost:8080/"
        },
        "id": "n823ybqHRRmX",
        "outputId": "2b5013d4-1bd8-4199-980b-0969ce480950"
      },
      "execution_count": 60,
      "outputs": [
        {
          "output_type": "stream",
          "name": "stdout",
          "text": [
            "Invalid shapes!\n"
          ]
        }
      ]
    },
    {
      "cell_type": "code",
      "source": [
        "# Let's upgrade it to handle batches using `vmap`\n",
        "\n",
        "# Make a batched version of the `predict` function\n",
        "batched_predict = vmap(predict, in_axes=(None, 0))\n",
        "\n",
        "# `batched_predict` has the same call signature as `predict`\n",
        "batched_preds = batched_predict(params, random_flattened_images)\n",
        "print(batched_preds.shape)"
      ],
      "metadata": {
        "colab": {
          "base_uri": "https://localhost:8080/"
        },
        "id": "ymtMrVL-RVA0",
        "outputId": "e115bd94-247d-4e24-f21e-27d10ce57445"
      },
      "execution_count": 61,
      "outputs": [
        {
          "output_type": "stream",
          "name": "stdout",
          "text": [
            "(10, 10)\n"
          ]
        }
      ]
    },
    {
      "cell_type": "code",
      "source": [
        "def one_hot(x, k, dtype=jnp.float32):\n",
        "  \"\"\"Create a one-hot encoding of x of size k.\"\"\"\n",
        "  return jnp.array(x[:, None] == jnp.arange(k), dtype)\n",
        "  \n",
        "def accuracy(params, images, targets):\n",
        "  target_class = jnp.argmax(targets, axis=1)\n",
        "  predicted_class = jnp.argmax(batched_predict(params, images), axis=1)\n",
        "  return jnp.mean(predicted_class == target_class)\n",
        "\n",
        "def loss(params, images, targets):\n",
        "  preds = batched_predict(params, images)\n",
        "  return -jnp.mean(preds * targets)\n",
        "\n",
        "@jit\n",
        "def update(params, x, y):\n",
        "  grads = grad(loss)(params, x, y)\n",
        "  return [(w - step_size * dw, b - step_size * db)\n",
        "          for (w, b), (dw, db) in zip(params, grads)]"
      ],
      "metadata": {
        "id": "eJ1_E9E8RY1d"
      },
      "execution_count": 62,
      "outputs": []
    },
    {
      "cell_type": "code",
      "source": [
        "import numpy as np\n",
        "from torch.utils import data\n",
        "from torchvision.datasets import MNIST\n",
        "\n",
        "def numpy_collate(batch):\n",
        "  if isinstance(batch[0], np.ndarray):\n",
        "    return np.stack(batch)\n",
        "  elif isinstance(batch[0], (tuple,list)):\n",
        "    transposed = zip(*batch)\n",
        "    return [numpy_collate(samples) for samples in transposed]\n",
        "  else:\n",
        "    return np.array(batch)\n",
        "\n",
        "class NumpyLoader(data.DataLoader):\n",
        "  def __init__(self, dataset, batch_size=1,\n",
        "                shuffle=False, sampler=None,\n",
        "                batch_sampler=None, num_workers=0,\n",
        "                pin_memory=False, drop_last=False,\n",
        "                timeout=0, worker_init_fn=None):\n",
        "    super(self.__class__, self).__init__(dataset,\n",
        "        batch_size=batch_size,\n",
        "        shuffle=shuffle,\n",
        "        sampler=sampler,\n",
        "        batch_sampler=batch_sampler,\n",
        "        num_workers=num_workers,\n",
        "        collate_fn=numpy_collate,\n",
        "        pin_memory=pin_memory,\n",
        "        drop_last=drop_last,\n",
        "        timeout=timeout,\n",
        "        worker_init_fn=worker_init_fn)\n",
        "\n",
        "class FlattenAndCast(object):\n",
        "  def __call__(self, pic):\n",
        "    return np.ravel(np.array(pic, dtype=jnp.float32))"
      ],
      "metadata": {
        "id": "JSD3-bwWRbTc"
      },
      "execution_count": 63,
      "outputs": []
    },
    {
      "cell_type": "code",
      "source": [
        "# Define our dataset, using torch datasets\n",
        "mnist_dataset = MNIST('/tmp/mnist/', download=True, transform=FlattenAndCast())\n",
        "training_generator = NumpyLoader(mnist_dataset, batch_size=batch_size, num_workers=0)"
      ],
      "metadata": {
        "id": "uw2I5DVLRf_b"
      },
      "execution_count": 64,
      "outputs": []
    },
    {
      "cell_type": "markdown",
      "source": [
        "The usual mnist data set has a split of train data close to 80:20 so we didn't split it"
      ],
      "metadata": {
        "id": "5w5boJewp6Mn"
      }
    },
    {
      "cell_type": "code",
      "source": [
        "# Get the full train dataset (for checking accuracy while training) \n",
        "train_images = np.array(mnist_dataset.train_data).reshape(len(mnist_dataset.train_data), -1)\n",
        "train_labels = one_hot(np.array(mnist_dataset.train_labels), n_targets)\n",
        "\n",
        "# Get full test dataset\n",
        "mnist_dataset_test = MNIST('/tmp/mnist/', download=True, train=False)\n",
        "test_images = jnp.array(mnist_dataset_test.test_data.numpy().reshape(len(mnist_dataset_test.test_data), -1), dtype=jnp.float32)\n",
        "test_labels = one_hot(np.array(mnist_dataset_test.test_labels), n_targets)"
      ],
      "metadata": {
        "colab": {
          "base_uri": "https://localhost:8080/"
        },
        "id": "TCFNYShqRjDx",
        "outputId": "93874391-5a3c-4e88-c8b9-aaab29a497e1"
      },
      "execution_count": 65,
      "outputs": [
        {
          "output_type": "stream",
          "name": "stderr",
          "text": [
            "/usr/local/lib/python3.7/dist-packages/torchvision/datasets/mnist.py:62: UserWarning: train_data has been renamed data\n",
            "  warnings.warn(\"train_data has been renamed data\")\n",
            "/usr/local/lib/python3.7/dist-packages/torchvision/datasets/mnist.py:52: UserWarning: train_labels has been renamed targets\n",
            "  warnings.warn(\"train_labels has been renamed targets\")\n",
            "/usr/local/lib/python3.7/dist-packages/torchvision/datasets/mnist.py:67: UserWarning: test_data has been renamed data\n",
            "  warnings.warn(\"test_data has been renamed data\")\n",
            "/usr/local/lib/python3.7/dist-packages/torchvision/datasets/mnist.py:57: UserWarning: test_labels has been renamed targets\n",
            "  warnings.warn(\"test_labels has been renamed targets\")\n"
          ]
        }
      ]
    },
    {
      "cell_type": "code",
      "source": [
        "import time\n",
        "loss_map=np.zeros(num_epochs, object)\n",
        "for epoch in range(num_epochs):\n",
        "  start_time = time.time()\n",
        "  for x, y in training_generator:\n",
        "    y = one_hot(y, n_targets)\n",
        "    params = update(params, x, y)\n",
        "  epoch_time = time.time() - start_time\n",
        "  train_loss = loss(params, train_images, train_labels)\n",
        "  train_acc = accuracy(params, train_images, train_labels)\n",
        "  test_acc = accuracy(params, test_images, test_labels)\n",
        "  print(\"Epoch {} in {:0.2f} sec\".format(epoch, epoch_time))\n",
        "  print(\"Training set accuracy {}\".format(train_acc))\n",
        "  print(\"Test set accuracy {}\".format(test_acc))\n",
        "  print(train_loss)\n",
        "  loss_map[epoch] = (epoch, train_loss )\n",
        "  \n",
        "print(loss_map)"
      ],
      "metadata": {
        "colab": {
          "base_uri": "https://localhost:8080/"
        },
        "id": "MYhuph5hRmRi",
        "outputId": "a9217bab-27ad-447a-900c-e159e80f5db2"
      },
      "execution_count": 66,
      "outputs": [
        {
          "output_type": "stream",
          "name": "stdout",
          "text": [
            "Epoch 0 in 3.95 sec\n",
            "Training set accuracy 0.8021500110626221\n",
            "Test set accuracy 0.8053999543190002\n",
            "0.06537513\n",
            "Epoch 1 in 3.35 sec\n",
            "Training set accuracy 0.8770000338554382\n",
            "Test set accuracy 0.8793999552726746\n",
            "0.041290984\n",
            "Epoch 2 in 3.26 sec\n",
            "Training set accuracy 0.8947333693504333\n",
            "Test set accuracy 0.8949999809265137\n",
            "0.035928067\n",
            "Epoch 3 in 3.24 sec\n",
            "Training set accuracy 0.9031167030334473\n",
            "Test set accuracy 0.9027999639511108\n",
            "0.03307914\n",
            "Epoch 4 in 3.38 sec\n",
            "Training set accuracy 0.9090166687965393\n",
            "Test set accuracy 0.9081999659538269\n",
            "0.030935371\n",
            "Epoch 5 in 3.29 sec\n",
            "Training set accuracy 0.9146666526794434\n",
            "Test set accuracy 0.9126999974250793\n",
            "0.029094286\n",
            "Epoch 6 in 3.35 sec\n",
            "Training set accuracy 0.9199833273887634\n",
            "Test set accuracy 0.9168999791145325\n",
            "0.02745781\n",
            "Epoch 7 in 3.28 sec\n",
            "Training set accuracy 0.9239667057991028\n",
            "Test set accuracy 0.9211999773979187\n",
            "0.026069736\n",
            "[(0, DeviceArray(0.06537513, dtype=float32))\n",
            " (1, DeviceArray(0.04129098, dtype=float32))\n",
            " (2, DeviceArray(0.03592807, dtype=float32))\n",
            " (3, DeviceArray(0.03307914, dtype=float32))\n",
            " (4, DeviceArray(0.03093537, dtype=float32))\n",
            " (5, DeviceArray(0.02909429, dtype=float32))\n",
            " (6, DeviceArray(0.02745781, dtype=float32))\n",
            " (7, DeviceArray(0.02606974, dtype=float32))]\n"
          ]
        }
      ]
    },
    {
      "cell_type": "code",
      "source": [
        "plt.figure()\n",
        "x = [loss_map[i][0] for i in range(len(loss_map))]\n",
        "y = [loss_map[i][1] for i in range(len(loss_map))]\n",
        "plt.plot(x,y)\n",
        "plt.show()\n"
      ],
      "metadata": {
        "colab": {
          "base_uri": "https://localhost:8080/",
          "height": 265
        },
        "id": "AnUC2a8jRp2D",
        "outputId": "167f623f-d3e6-4c9e-8cec-a3d41d0746f4"
      },
      "execution_count": 67,
      "outputs": [
        {
          "output_type": "display_data",
          "data": {
            "text/plain": [
              "<Figure size 432x288 with 1 Axes>"
            ],
            "image/png": "[encoded data removed]"
          },
          "metadata": {
            "needs_background": "light"
          }
        }
      ]
    },
    {
      "cell_type": "markdown",
      "source": [
        "Classification metrics is useful in predicting how good the model is"
      ],
      "metadata": {
        "id": "1ceGEfdlvY5F"
      }
    }
  ]
}