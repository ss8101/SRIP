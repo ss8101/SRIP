{
  "nbformat": 4,
  "nbformat_minor": 0,
  "metadata": {
    "colab": {
      "name": "test2.ipynb",
      "provenance": []
    },
    "kernelspec": {
      "name": "python3",
      "display_name": "Python 3"
    },
    "language_info": {
      "name": "python"
    }
  },
  "cells": [
    {
      "cell_type": "markdown",
      "source": [
        "#We are going to implement Box-Muller algorithm for drawing samples from uniform distribution"
      ],
      "metadata": {
        "id": "ItFoJwL2mE9b"
      }
    },
    {
      "cell_type": "markdown",
      "source": [
        "We tried with jax but there were too much to learn handling jax arrays in this short time so I kept it simple in numpy."
      ],
      "metadata": {
        "id": "6tcyZYCxhGib"
      }
    },
    {
      "cell_type": "code",
      "source": [
        "import jax\n",
        "import jax.numpy as jnp\n",
        "import numpy as np\n",
        "import matplotlib.pyplot as plt"
      ],
      "metadata": {
        "id": "OxF23REimZv_"
      },
      "execution_count": 15,
      "outputs": []
    },
    {
      "cell_type": "markdown",
      "source": [
        "Its a common method of sampling from a given uniform distribution to normal distribution.\n",
        "\n",
        "\n",
        "Box-Muller: we need two random uniform variables and now we create two normal random variable using the Box_muller method. Here we only focus on one cosine term and the random variables will be independent as CosA is not dependent of CosB if A is not as same as B; here i think the key focus is to implement Box_muller method "
      ],
      "metadata": {
        "id": "pqhQXTOdhzwP"
      }
    },
    {
      "cell_type": "code",
      "source": [
        "#we want to define a helper a function that generates the normal distribution from uniform one\n",
        "def f(theta, E):\n",
        "  return np.cos(theta)*np.sqrt(E)\n",
        "#we define the box muller algorithm\n",
        "def Box_Muller(N , mu , sigma, n):\n",
        "  out = np.zeros(N , dtype = object)\n",
        "  for i in np.arange(N):\n",
        "    '''Theta = np.zeros(n  dtype = float)\n",
        "    U = np.zeros(n , size = n, dtype = float)'''\n",
        "\n",
        "    theta = np.random.uniform(0, 2*np.pi , size = n)  #instead of jax.random.uniform\n",
        "    #Theta[i]=theta\n",
        "    '''Theta = Theta.at[i].set(theta)\n",
        "    key +=1'''\n",
        "\n",
        "    u = np.random.uniform(0,1,size = n) #instead of jax.random.uniform\n",
        "    '''U = U.at[i].set(u)\n",
        "    key +=1'''\n",
        "    #print(type(u))\n",
        "    E = np.sqrt(-2*np.log(u))\n",
        "    X = f(theta, E)\n",
        "#    X = X.T\n",
        "    out[i] = X\n",
        "  return out\n",
        "\n",
        "n = 10 #dimension\n",
        "#key = jax.random.PRNGKey(0)\n",
        "mu =np.zeros(n, dtype = np.float32)# it can be changed\n",
        "sigma = np.identity(n , dtype = np.float32)#can be changed\n",
        "N = 10000\n",
        "a= Box_Muller(N, mu, sigma, n)\n",
        "print(a)"
      ],
      "metadata": {
        "colab": {
          "base_uri": "https://localhost:8080/"
        },
        "id": "ZmiCTTVzmivu",
        "outputId": "6bc4f345-c114-4ee7-93a0-832647baea27"
      },
      "execution_count": 28,
      "outputs": [
        {
          "output_type": "stream",
          "name": "stdout",
          "text": [
            "[array([ 0.1997367 , -0.15055756, -1.59155697,  0.25058025, -0.10578529,\n",
            "        -0.0504351 , -0.96149264,  0.14095673, -0.95478262,  0.88671146])\n",
            " array([ 1.35116991,  0.28909569,  1.29809016,  0.93262035,  0.17465732,\n",
            "        -0.42572885,  0.0189699 ,  0.6490998 ,  0.68260461, -0.85978355])\n",
            " array([ 0.74579833, -0.35527196,  0.89035134,  0.28528468,  0.92323699,\n",
            "         0.43205168, -0.35885549, -1.50878615,  0.33076046,  1.20122153])\n",
            " ...\n",
            " array([-0.37855848, -0.55117247,  0.67382102, -0.8780811 ,  0.5576467 ,\n",
            "         0.25399418, -0.79425322,  0.48487043,  1.06533133,  0.46628484])\n",
            " array([-0.90072402, -0.22206375, -1.15274466, -0.24379874, -0.43560121,\n",
            "        -0.63288561,  0.71768578,  0.35945568, -0.89645047, -0.85591563])\n",
            " array([ 0.88847777, -0.63365462,  1.04746299,  0.62685331, -1.11486779,\n",
            "        -1.05255303,  0.18607169,  0.7729554 ,  0.36166794, -0.99795498])]\n"
          ]
        }
      ]
    },
    {
      "cell_type": "code",
      "source": [
        "def phi(X, mu, sigma):\n",
        "  return 1/np.sqrt(2*np.pi*sigma**2)*np.exp(-(X-mu)**2/(2*sigma**2))"
      ],
      "metadata": {
        "id": "E0mkCs_K4LBj"
      },
      "execution_count": 29,
      "outputs": []
    },
    {
      "cell_type": "code",
      "source": [
        "X = np.zeros(N)\n",
        "for i in range(N):\n",
        "  X[i]= a[i][3]\n",
        "X"
      ],
      "metadata": {
        "colab": {
          "base_uri": "https://localhost:8080/"
        },
        "id": "IYVQRORyf5O9",
        "outputId": "f44c8fb1-c313-4306-b07c-f7dde92e2773"
      },
      "execution_count": 37,
      "outputs": [
        {
          "output_type": "execute_result",
          "data": {
            "text/plain": [
              "array([ 0.25058025,  0.93262035,  0.28528468, ..., -0.8780811 ,\n",
              "       -0.24379874,  0.62685331])"
            ]
          },
          "metadata": {},
          "execution_count": 37
        }
      ]
    },
    {
      "cell_type": "code",
      "source": [
        "plt.figure()\n",
        "plt.hist(X, bins=10, density = True)\n",
        "xx = np.linspace(-3,15,100)\n",
        "plt.plot(xx,phi(xx,0,1))"
      ],
      "metadata": {
        "colab": {
          "base_uri": "https://localhost:8080/",
          "height": 284
        },
        "id": "gSFxha4ejmDd",
        "outputId": "f70f135a-c0b0-493a-9215-13bfce77fcbb"
      },
      "execution_count": 39,
      "outputs": [
        {
          "output_type": "execute_result",
          "data": {
            "text/plain": [
              "[<matplotlib.lines.Line2D at 0x7ff42d86e150>]"
            ]
          },
          "metadata": {},
          "execution_count": 39
        },
        {
          "output_type": "display_data",
          "data": {
            "text/plain": [
              "<Figure size 432x288 with 1 Axes>"
            ],
            "image/png": "[encoded data removed]"
          },
          "metadata": {
            "needs_background": "light"
          }
        }
      ]
    },
    {
      "cell_type": "code",
      "source": [
        ""
      ],
      "metadata": {
        "id": "619y55VUkGy2"
      },
      "execution_count": null,
      "outputs": []
    }
  ]
}